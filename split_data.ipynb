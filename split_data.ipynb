{
 "cells": [
  {
   "cell_type": "code",
   "execution_count": 31,
   "metadata": {},
   "outputs": [],
   "source": [
    "import numpy as np\n",
    "import os, glob\n",
    "from math import floor\n"
   ]
  },
  {
   "cell_type": "code",
   "execution_count": 2,
   "metadata": {},
   "outputs": [],
   "source": [
    "# directory\n",
    "currdir = os.getcwd()\n",
    "test_dir = os.path.join(currdir, 'test_data')\n",
    "train_dir = os.path.join(currdir, 'train_data')\n"
   ]
  },
  {
   "cell_type": "code",
   "execution_count": 34,
   "metadata": {},
   "outputs": [
    {
     "name": "stdout",
     "output_type": "stream",
     "text": [
      "(83125, 128, 323)\n",
      "(9237, 128, 323)\n",
      "(83125, 50)\n",
      "(9237, 50)\n",
      "(83125,)\n",
      "(9237,)\n",
      "(83125,)\n",
      "(9237,)\n"
     ]
    }
   ],
   "source": [
    "for this_array in glob.glob(os.path.join(test_dir,'*')):\n",
    "    working_array = np.load(this_array) # read in array\n",
    "    working_shape = working_array.shape # shape\n",
    "    \n",
    "    train_num = floor(working_shape[0]*0.9)\n",
    "    train = working_array[0:train_num, ] # training \n",
    "    print(train.shape)\n",
    "    test = working_array[train_num:working_shape[0],] # testing\n",
    "    print(test.shape)\n",
    "   \n",
    "    npy_name = this_array.split(\"/\")[-1]\n",
    "    \n",
    "    np.save(os.path.join(train_dir, 'train_' + npy_name), train)\n",
    "    np.save(os.path.join(test_dir, 'test_' + npy_name), test)\n",
    "    \n",
    "    \n",
    "    "
   ]
  },
  {
   "cell_type": "code",
   "execution_count": 6,
   "metadata": {},
   "outputs": [],
   "source": [
    "check1 = np.load(glob.glob(os.path.join(test_dir,'*'))[0])\n",
    "check2 = np.load(glob.glob(os.path.join(test_dir,'*'))[1])\n",
    "check3 = np.load(glob.glob(os.path.join(test_dir,'*'))[2])\n",
    "check4 = np.load(glob.glob(os.path.join(test_dir,'*'))[3])"
   ]
  },
  {
   "cell_type": "code",
   "execution_count": 27,
   "metadata": {},
   "outputs": [
    {
     "data": {
      "text/plain": [
       "'tgte.jynet.npy'"
      ]
     },
     "execution_count": 27,
     "metadata": {},
     "output_type": "execute_result"
    }
   ],
   "source": [
    "glob.glob(os.path.join(test_dir,'*'))[1].split(\"/\")[-1]"
   ]
  },
  {
   "cell_type": "code",
   "execution_count": 29,
   "metadata": {},
   "outputs": [
    {
     "data": {
      "text/plain": [
       "'/gpfs/projects/hulacon/shared/nsd_results/yufei/spotify_analysis/train_data/train_tgte.jynet.npy'"
      ]
     },
     "execution_count": 29,
     "metadata": {},
     "output_type": "execute_result"
    }
   ],
   "source": [
    "npy_name = 'tgte.jynet.npy'\n",
    "os.path.join(train_dir, 'train_' + npy_name)"
   ]
  },
  {
   "cell_type": "code",
   "execution_count": 33,
   "metadata": {},
   "outputs": [
    {
     "data": {
      "text/plain": [
       "83125"
      ]
     },
     "execution_count": 33,
     "metadata": {},
     "output_type": "execute_result"
    }
   ],
   "source": [
    "floor(working_shape[0]*0.9)"
   ]
  },
  {
   "cell_type": "code",
   "execution_count": 16,
   "metadata": {},
   "outputs": [
    {
     "data": {
      "text/plain": [
       "(83000, 50)"
      ]
     },
     "execution_count": 16,
     "metadata": {},
     "output_type": "execute_result"
    }
   ],
   "source": [
    "check2[0:83000,].shape"
   ]
  },
  {
   "cell_type": "code",
   "execution_count": 8,
   "metadata": {},
   "outputs": [
    {
     "data": {
      "text/plain": [
       "(92362,)"
      ]
     },
     "execution_count": 8,
     "metadata": {},
     "output_type": "execute_result"
    }
   ],
   "source": [
    "check3.shape"
   ]
  },
  {
   "cell_type": "code",
   "execution_count": 9,
   "metadata": {},
   "outputs": [
    {
     "data": {
      "text/plain": [
       "(92362,)"
      ]
     },
     "execution_count": 9,
     "metadata": {},
     "output_type": "execute_result"
    }
   ],
   "source": [
    "check4.shape"
   ]
  },
  {
   "cell_type": "code",
   "execution_count": 10,
   "metadata": {},
   "outputs": [
    {
     "data": {
      "text/plain": [
       "['/gpfs/projects/hulacon/shared/nsd_results/yufei/spotify_analysis/test_data/feat.npy',\n",
       " '/gpfs/projects/hulacon/shared/nsd_results/yufei/spotify_analysis/test_data/tgte.jynet.npy',\n",
       " '/gpfs/projects/hulacon/shared/nsd_results/yufei/spotify_analysis/test_data/id.npy',\n",
       " '/gpfs/projects/hulacon/shared/nsd_results/yufei/spotify_analysis/test_data/pop.npy']"
      ]
     },
     "execution_count": 10,
     "metadata": {},
     "output_type": "execute_result"
    }
   ],
   "source": [
    "glob.glob(os.path.join(test_dir,'*'))"
   ]
  },
  {
   "cell_type": "code",
   "execution_count": 19,
   "metadata": {},
   "outputs": [
    {
     "data": {
      "text/plain": [
       "array([ 1,  0,  0,  3,  0, 24,  0,  0,  2,  3,  0, 11,  1,  3,  2,  0, 17,\n",
       "       37,  4,  8, 15,  8,  0,  2,  1,  1, 11, 34,  0,  0, 15,  0, 19, 10,\n",
       "        1,  0,  4,  3, 18,  0,  4,  4, 28,  1,  0,  0,  0, 16,  0,  0,  0,\n",
       "       16, 46,  0,  2, 21, 16, 21,  2,  2,  4,  0,  3, 22,  0,  0,  6, 38,\n",
       "       10,  4,  7,  2, 19,  0,  0,  1, 15, 14,  1,  0, 12, 14,  0, 15,  4,\n",
       "        0,  6,  0, 12, 23,  0, 25,  6,  5, 15,  2,  4,  0, 15,  7])"
      ]
     },
     "execution_count": 19,
     "metadata": {},
     "output_type": "execute_result"
    }
   ],
   "source": [
    "check4[0:100]"
   ]
  },
  {
   "cell_type": "code",
   "execution_count": null,
   "metadata": {},
   "outputs": [],
   "source": []
  }
 ],
 "metadata": {
  "kernelspec": {
   "display_name": "Python 3",
   "language": "python",
   "name": "python3"
  },
  "language_info": {
   "codemirror_mode": {
    "name": "ipython",
    "version": 3
   },
   "file_extension": ".py",
   "mimetype": "text/x-python",
   "name": "python",
   "nbconvert_exporter": "python",
   "pygments_lexer": "ipython3",
   "version": "3.6.8"
  }
 },
 "nbformat": 4,
 "nbformat_minor": 2
}
