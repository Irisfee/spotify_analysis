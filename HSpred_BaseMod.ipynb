{
 "cells": [
  {
   "cell_type": "code",
   "execution_count": 113,
   "metadata": {},
   "outputs": [],
   "source": [
    "import numpy as np \n",
    "import glob, os, pickle, warnings\n",
    "import pandas as pd\n",
    "from util import read_pickle\n",
    "from pathlib import Path\n",
    "from sklearn.linear_model import Ridge\n",
    "from sklearn.model_selection import KFold,  GridSearchCV\n",
    "from sklearn.pipeline import make_pipeline\n",
    "from sklearn.preprocessing import StandardScaler\n",
    "from sklearn.svm import SVR\n",
    "from scipy.stats import pearsonr, spearmanr\n",
    "from sklearn.metrics import mean_squared_error,r2_score\n",
    "warnings.filterwarnings(action='ignore',category=DeprecationWarning and FutureWarning)"
   ]
  },
  {
   "cell_type": "markdown",
   "metadata": {},
   "source": [
    "### Directory List (summary with link)\n",
    "\n",
    "### Spotify_query Class \n",
    "- See data_query.py\n",
    "\n",
    "### Scrap MP3 from URL \n",
    "- See scrapMP3_fromURL.py\n",
    "\n",
    "### Baseline Model Benchmarks"
   ]
  },
  {
   "cell_type": "code",
   "execution_count": 114,
   "metadata": {},
   "outputs": [],
   "source": [
    "# get data \n",
    "genre = 'mandopop'\n",
    "base_dir = Path('.')\n",
    "data_dir = base_dir.joinpath(\"data\")\n",
    "fid = data_dir.joinpath(f'songs_{genre}.pkl')\n",
    "song_dat = read_pickle(fid)\n",
    "\n",
    "\n",
    "# start with general linear regression with regularization \n",
    "# tuned hyperparameter alpha with cv\n",
    "def _pred_popularity(df, model):\n",
    "    \n",
    "    # set up cv\n",
    "    kf = KFold(n_splits=5, shuffle = True) # 5 fold\n",
    "    # standarize feature\n",
    "    audio_fts = ['danceability', 'energy', 'loudness', 'speechiness',\n",
    "                 'acousticness', 'instrumentalness', 'liveness', 'valence', 'tempo',\n",
    "                 'duration_ms'] # feature names\n",
    "    feature = df[audio_fts].to_numpy()\n",
    "    scaler = StandardScaler().fit(feature)\n",
    "    feature_standarized = scaler.transform(feature)\n",
    "    label = df['popularity'].to_numpy()\n",
    "    \n",
    "    pred_acc_list = [] \n",
    "    mse_list = []\n",
    "    for train_index, test_index in kf.split(df):\n",
    "        \n",
    "        train_feature, train_label = feature_standarized[train_index], label[train_index] # training feature and label\n",
    "        test_feature, test_label = feature_standarized[test_index], label[test_index] # testing feature and label\n",
    " \n",
    "        if model == 'linear':\n",
    "            parameters = {'alpha':[0.1, 1, 10, 100, 1000]}\n",
    "            clf = GridSearchCV(Ridge(), parameters, cv = 5)\n",
    "        elif model == 'poly_kernel':\n",
    "            #parameters = {'C':[0.1], 'epsilon': [0.1]}\n",
    "            #clf = GridSearchCV(SVR(kernel='rbf'), parameters, cv = 3)\n",
    "            clf = SVR(kernel='poly', degree = 3, C = 1, epsilon = 0.1)\n",
    "\n",
    "        clf.fit(train_feature, train_label)\n",
    "        pred_test_label = clf.predict(test_feature)\n",
    "        \n",
    "        pred_acc_list.append(spearmanr(test_label, pred_test_label)[0])\n",
    "        mse_list.append(mean_squared_error(test_label, pred_test_label))\n",
    "        \n",
    "        mean_r = np.mean(pred_acc_list)\n",
    "        mean_mse = np.mean(mse_list)\n",
    "        \n",
    "    return mean_r, mean_mse\n",
    "\n",
    "def _debug_error_source(df_train, df_test, model):\n",
    "    \n",
    "    # df_train and df_test need to be standarized \n",
    "    audio_fts = ['danceability', 'energy', 'loudness', 'speechiness',\n",
    "                 'acousticness', 'instrumentalness', 'liveness', 'valence', 'tempo',\n",
    "                 'duration_ms']\n",
    "    train_feature, train_label = df_train[audio_fts].to_numpy(), df_train['popularity'].to_numpy()\n",
    "    test_feature, test_label = df_test[audio_fts].to_numpy(), df_test['popularity'].to_numpy()\n",
    "    \n",
    "    if model == 'linear':\n",
    "        parameters = {'alpha':[0.1, 1, 10, 100, 1000]}\n",
    "        clf = GridSearchCV(Ridge(), parameters, cv = 5)\n",
    "    elif model == 'poly_kernel':\n",
    "        #parameters = {'C':[0.1], 'epsilon': [0.1]}\n",
    "        #clf = GridSearchCV(SVR(kernel='rbf'), parameters, cv = 3)\n",
    "        clf = SVR(kernel='poly', degree = 2, C = 1, epsilon = 0.1)\n",
    "    \n",
    "    clf.fit(train_feature, train_label)\n",
    "    pred_train_label = clf.predict(train_feature) # for computing training error\n",
    "    pred_test_label = clf.predict(test_feature) # for computing testing error\n",
    "    \n",
    "    train_mse = mean_squared_error(train_label, pred_train_label)\n",
    "    test_mse = mean_squared_error(test_label, pred_test_label)\n",
    "    \n",
    "    return train_mse, test_mse\n",
    "    \n",
    "linear_pred_acc_r, linear_pred_acc_mse = _pred_popularity(song_dat, 'linear')    "
   ]
  },
  {
   "cell_type": "code",
   "execution_count": 80,
   "metadata": {},
   "outputs": [],
   "source": [
    "train_mse_list, test_mse_list = [], []\n",
    "song_dat_shuffle = song_dat.copy(deep = True)\n",
    "\n",
    "song_dat_shuffle = song_dat_shuffle.sample(frac=1, random_state = 1900).reset_index(drop=True)\n",
    "\n",
    "for size in list(range(2000, len(song_dat)-2000, 2000)):\n",
    "    \n",
    "    training, testing = song_dat_shuffle.loc[0:size,], song_dat_shuffle.loc[len(song_dat)-2000:len(song_dat),]\n",
    "    \n",
    "    train_mse, test_mse = _debug_error_source(training, testing, 'linear')\n",
    "    train_mse_list.append(train_mse)\n",
    "    test_mse_list.append(test_mse)"
   ]
  },
  {
   "cell_type": "code",
   "execution_count": 81,
   "metadata": {},
   "outputs": [
    {
     "data": {
      "text/plain": [
       "<AxesSubplot:>"
      ]
     },
     "execution_count": 81,
     "metadata": {},
     "output_type": "execute_result"
    },
    {
     "data": {
      "image/png": "[encoded data removed]",
      "text/plain": [
       "<Figure size 432x288 with 1 Axes>"
      ]
     },
     "metadata": {
      "needs_background": "light"
     },
     "output_type": "display_data"
    }
   ],
   "source": [
    "pd.DataFrame({\"Train_Error\":train_mse_list,\n",
    "              \"Test_Error\":test_mse_list}, \n",
    "              index = list(range(2000, len(song_dat)-2000, 2000))).plot.line()"
   ]
  },
  {
   "cell_type": "code",
   "execution_count": 84,
   "metadata": {},
   "outputs": [],
   "source": [
    "poly_pred_acc_r, poly_pred_acc_mse = _pred_popularity(song_dat, 'poly_kernel')  "
   ]
  },
  {
   "cell_type": "code",
   "execution_count": 85,
   "metadata": {},
   "outputs": [
    {
     "data": {
      "text/plain": [
       "102.80572563566434"
      ]
     },
     "execution_count": 85,
     "metadata": {},
     "output_type": "execute_result"
    }
   ],
   "source": [
    "poly_pred_acc_mse"
   ]
  },
  {
   "cell_type": "code",
   "execution_count": 7,
   "metadata": {},
   "outputs": [],
   "source": [
    "import audioread\n",
    "import librosa\n",
    "import os, shutil, warnings, glob\n",
    "import numpy as np\n",
    "import numpy as np\n",
    "from sklearn.preprocessing import StandardScaler\n",
    "\n",
    "warnings.filterwarnings(\"ignore\")\n",
    "\n",
    "\n",
    "# Extract mel spectrum features at different hop length\n",
    "def _extract_melspec(in_file, win_size):\n",
    "    \n",
    "    \"\"\"\n",
    "    In_file is a path pointing to a MP3 file\n",
    "    output is of the shape (#Frame, #mel)\n",
    "    \"\"\"\n",
    "    \n",
    "    sig, sr = librosa.core.load(in_file, sr=16000)\n",
    "    feat = librosa.feature.melspectrogram(sig, sr=16000,\n",
    "                                          n_fft=win_size,\n",
    "                                          hop_length=512,\n",
    "                                          n_mels=128).T\n",
    "    feat = np.log(1+10000*feat)\n",
    "    return feat\n",
    "\n",
    "# padding if sone less than 30s\n",
    "def _append_zero_row(array, n_total_row):\n",
    "    r, c = array.shape\n",
    "    if r >= n_total_row:\n",
    "        return array\n",
    "    else:\n",
    "        temp = np.zeros((n_total_row-r, c))\n",
    "        return np.vstack([array, temp])\n",
    "    \n",
    "\n",
    "def _make_batch_feat(feature_list, length=939):\n",
    "    \n",
    "    \"\"\"\n",
    "    feature_list is the list of output of _extract_melspec, numpy array. \n",
    "    If only one song, need to make it into a list\n",
    "    \n",
    "    output file is of the shape (nSong, 1, nFrame, nMel)\n",
    "    \"\"\"\n",
    "    \n",
    "    feat = []\n",
    "    a_array = []\n",
    "    \n",
    "    for idx, term in enumerate(feature_list):\n",
    "\n",
    "        a_array = _append_zero_row(term, length)[None, None, :length, :].astype('float32')\n",
    "        feat.append(a_array)\n",
    "\n",
    "    feat = np.vstack(feat)\n",
    "    return feat\n",
    "\n",
    "def _standardize(batch_feat, scaler=None):\n",
    "    \n",
    "    k = batch_feat.shape[-1]\n",
    "    n = batch_feat.shape[0]\n",
    "    batch_feat = batch_feat.reshape((-1, k))\n",
    "    \n",
    "    scaler = StandardScaler().fit(batch_feat)\n",
    "    batch_feat_s = scaler.transform(batch_feat)\n",
    "    \n",
    "    batch_feat_s = batch_feat_s.reshape((n, 1, -1, k))\n",
    "    return batch_feat_s\n",
    "\n",
    "def main(mp3_file):\n",
    "    \n",
    "    for win_size in [512,1024,2048,4096,8192,16384]:\n",
    "        \n",
    "        single_feature = _extract_melspec(mp3_file, win_size) # extract feature \n",
    "        batch_feature = _make_batch_feat([single_feature]) #add padding\n",
    "        batch_feature_s = _standardize(batch_feature) # standarize \n",
    "        \n",
    "\n",
    "#if __name__ == '__main__':\n",
    "    \n",
    "#    win_sizes = [512,1024,2048,4096,8192,16384]\n",
    "#    for "
   ]
  },
  {
   "cell_type": "code",
   "execution_count": 3,
   "metadata": {},
   "outputs": [],
   "source": [
    "mp3 = '/projects/hulacon/shared/nsd_results/yufei/spotify_analysis/data/test.mp3'"
   ]
  },
  {
   "cell_type": "code",
   "execution_count": 1,
   "metadata": {},
   "outputs": [],
   "source": [
    "from test_model_preppipline import predict_curSong\n",
    "from test_model_preppipline import feat_extract"
   ]
  },
  {
   "cell_type": "code",
   "execution_count": 4,
   "metadata": {},
   "outputs": [
    {
     "name": "stdout",
     "output_type": "stream",
     "text": [
      "Loading data...\n",
      "6 1 1 939\n",
      "Building network...\n",
      "Predicting...\n"
     ]
    }
   ],
   "source": [
    "tag_feature = predict_curSong(mp3)"
   ]
  },
  {
   "cell_type": "code",
   "execution_count": 4,
   "metadata": {},
   "outputs": [],
   "source": [
    "mel_feature = feat_extract(mp3)"
   ]
  },
  {
   "cell_type": "code",
   "execution_count": null,
   "metadata": {},
   "outputs": [],
   "source": []
  }
 ],
 "metadata": {
  "kernelspec": {
   "display_name": "Python 3",
   "language": "python",
   "name": "python3"
  },
  "language_info": {
   "codemirror_mode": {
    "name": "ipython",
    "version": 3
   },
   "file_extension": ".py",
   "mimetype": "text/x-python",
   "name": "python",
   "nbconvert_exporter": "python",
   "pygments_lexer": "ipython3",
   "version": "3.6.8"
  }
 },
 "nbformat": 4,
 "nbformat_minor": 2
}
